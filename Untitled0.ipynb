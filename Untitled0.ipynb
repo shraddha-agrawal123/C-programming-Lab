{
  "nbformat": 4,
  "nbformat_minor": 0,
  "metadata": {
    "colab": {
      "provenance": [],
      "authorship_tag": "ABX9TyMy4xsrHm4T/TJsrrYjtz92",
      "include_colab_link": true
    },
    "kernelspec": {
      "name": "python3",
      "display_name": "Python 3"
    },
    "language_info": {
      "name": "python"
    }
  },
  "cells": [
    {
      "cell_type": "markdown",
      "metadata": {
        "id": "view-in-github",
        "colab_type": "text"
      },
      "source": [
        "<a href=\"https://colab.research.google.com/github/shraddha-agrawal123/C-programming-Lab/blob/main/Untitled0.ipynb\" target=\"_parent\"><img src=\"https://colab.research.google.com/assets/colab-badge.svg\" alt=\"Open In Colab\"/></a>"
      ]
    },
    {
      "cell_type": "code",
      "execution_count": 1,
      "metadata": {
        "colab": {
          "base_uri": "https://localhost:8080/"
        },
        "id": "JoJIP9iJ1Je7",
        "outputId": "82a6ce93-7521-46a7-e746-4e618089ee3f"
      },
      "outputs": [
        {
          "output_type": "stream",
          "name": "stdout",
          "text": [
            "hello first year..\n"
          ]
        }
      ],
      "source": [
        "print(\"hello first year..\")"
      ]
    },
    {
      "cell_type": "code",
      "source": [
        "import numpy as np\n",
        "ar=np.array([[1,2,3,4,5],[4,5,6,7,8]])\n",
        "br=np.array([[[1,2,3],[4,5,6]],[[1,2,3],[4,5,6]]])\n",
        "print(ar)\n",
        "print(type(ar))\n",
        "print(ar.ndim)\n",
        "print(br.ndim)"
      ],
      "metadata": {
        "colab": {
          "base_uri": "https://localhost:8080/"
        },
        "id": "Ae_W697C5sRM",
        "outputId": "53fca5df-96fd-447d-cbd0-b32d47fe27e4"
      },
      "execution_count": 9,
      "outputs": [
        {
          "output_type": "stream",
          "name": "stdout",
          "text": [
            "[[1 2 3 4 5]\n",
            " [4 5 6 7 8]]\n",
            "<class 'numpy.ndarray'>\n",
            "2\n",
            "3\n",
            "[[1 2 3 4 5]\n",
            " [4 5 6 7 8]]\n",
            "<class 'numpy.ndarray'>\n",
            "2\n",
            "3\n"
          ]
        }
      ]
    },
    {
      "cell_type": "code",
      "source": [
        "import numpy as np\n",
        "arr=np.array([[1,2,3,4,5],[6,7,8,9,10]])\n",
        "print(arr[0:2,2])\n",
        "print(arr[0:2,1:4])\n",
        "print(arr[1,1:4])"
      ],
      "metadata": {
        "colab": {
          "base_uri": "https://localhost:8080/"
        },
        "id": "WX-Qrofz8nmz",
        "outputId": "178b36ed-1615-4151-dbf7-525852c27bb5"
      },
      "execution_count": 11,
      "outputs": [
        {
          "output_type": "stream",
          "name": "stdout",
          "text": [
            "[3 8]\n",
            "[[2 3 4]\n",
            " [7 8 9]]\n",
            "[7 8 9]\n"
          ]
        }
      ]
    },
    {
      "cell_type": "code",
      "source": [
        "import numpy as np\n",
        "arr=np.array([1.1,2.1,3.1])\n",
        "newarr=arr.astype('i')\n",
        "print(newarr)\n",
        "print(newarr.dtype)"
      ],
      "metadata": {
        "id": "WFmcr48C9aNn",
        "outputId": "20ca4afd-6cde-4a95-b2fd-fbbe9ca8c607",
        "colab": {
          "base_uri": "https://localhost:8080/"
        }
      },
      "execution_count": 12,
      "outputs": [
        {
          "output_type": "stream",
          "name": "stdout",
          "text": [
            "[1 2 3]\n",
            "int32\n"
          ]
        }
      ]
    },
    {
      "cell_type": "code",
      "source": [
        "import numpy as np\n",
        "a=np.array([[1,2,3],[4,5,6]])\n",
        "print(a.shape)\n",
        "print(a)\n"
      ],
      "metadata": {
        "id": "I3SXK53u-HqM",
        "outputId": "4aeaaf38-f9f2-4897-be2b-17330b9f86ff",
        "colab": {
          "base_uri": "https://localhost:8080/"
        }
      },
      "execution_count": 18,
      "outputs": [
        {
          "output_type": "stream",
          "name": "stdout",
          "text": [
            "(2, 3)\n",
            "[[1 2 3]\n",
            " [4 5 6]]\n"
          ]
        }
      ]
    },
    {
      "cell_type": "code",
      "source": [
        "import numpy as np\n",
        "a=np.array([[1,2,3],[4,5,6]])\n",
        "a.shape=(3,2)\n",
        "print(a)\n",
        "a=np.array([[1,2,3],[4,5,6]])\n",
        "b=a.reshape(3,2)\n",
        "print(b)\n",
        "\n"
      ],
      "metadata": {
        "id": "KnMixrf__D7P",
        "outputId": "eaa52005-81ba-4529-c6fb-bf1aa2ad4036",
        "colab": {
          "base_uri": "https://localhost:8080/"
        }
      },
      "execution_count": 15,
      "outputs": [
        {
          "output_type": "stream",
          "name": "stdout",
          "text": [
            "[[1 2]\n",
            " [3 4]\n",
            " [5 6]]\n",
            "[[1 2]\n",
            " [3 4]\n",
            " [5 6]]\n"
          ]
        }
      ]
    },
    {
      "cell_type": "code",
      "source": [
        "import numpy as np\n",
        "a=np.arange(24)\n",
        "print(a)\n",
        "a=np.arange(24)\n",
        "print(a.ndim)\n",
        "#now reshape it\n",
        "b=a.reshape(2,4,3)\n",
        "#(dimension,row,coloumn)\n",
        "# b is having three dimensions\n",
        "print(b)\n"
      ],
      "metadata": {
        "id": "O8lCocX__Vjp",
        "outputId": "9e9c9f6f-8a6c-4f15-9a89-1806c5f12501",
        "colab": {
          "base_uri": "https://localhost:8080/"
        }
      },
      "execution_count": 21,
      "outputs": [
        {
          "output_type": "stream",
          "name": "stdout",
          "text": [
            "[ 0  1  2  3  4  5  6  7  8  9 10 11 12 13 14 15 16 17 18 19 20 21 22 23]\n",
            "1\n",
            "[[[ 0  1  2]\n",
            "  [ 3  4  5]\n",
            "  [ 6  7  8]\n",
            "  [ 9 10 11]]\n",
            "\n",
            " [[12 13 14]\n",
            "  [15 16 17]\n",
            "  [18 19 20]\n",
            "  [21 22 23]]]\n"
          ]
        }
      ]
    },
    {
      "cell_type": "code",
      "source": [
        "import numpy as np\n",
        "x=np.array([1,2,3,4,5],dtype=np.int8)\n",
        "print(x.itemsize)\n",
        "y=np.array([1,2,3,4,5],dtype=np.float32)\n",
        "print (y.itemsize)\n",
        "#8/8=1\n",
        "#16/8 bit=2\n",
        "#32/8 bit=4"
      ],
      "metadata": {
        "id": "X1bnr0NbBlZw",
        "outputId": "ea7ab778-e4cf-49fa-d5a1-53ba148f2120",
        "colab": {
          "base_uri": "https://localhost:8080/"
        }
      },
      "execution_count": 24,
      "outputs": [
        {
          "output_type": "stream",
          "name": "stdout",
          "text": [
            "1\n",
            "4\n"
          ]
        }
      ]
    },
    {
      "cell_type": "code",
      "source": [
        "import numpy as np\n",
        "x=np.array([1,2,3,4,5])\n",
        "print(x.flags)"
      ],
      "metadata": {
        "id": "pTLXQN9CCl7p",
        "outputId": "63e14c93-dc7a-423e-a83a-b127245b2865",
        "colab": {
          "base_uri": "https://localhost:8080/"
        }
      },
      "execution_count": 25,
      "outputs": [
        {
          "output_type": "stream",
          "name": "stdout",
          "text": [
            "  C_CONTIGUOUS : True\n",
            "  F_CONTIGUOUS : True\n",
            "  OWNDATA : True\n",
            "  WRITEABLE : True\n",
            "  ALIGNED : True\n",
            "  WRITEBACKIFCOPY : False\n",
            "  UPDATEIFCOPY : False\n",
            "\n"
          ]
        }
      ]
    },
    {
      "cell_type": "code",
      "source": [
        "import numpy as np\n",
        "x=np.array([[1,2],[3,4],[5,6]])\n",
        "y=x[[0,1,2],[0,1,0]]\n",
        "print(y)"
      ],
      "metadata": {
        "id": "qmhs5RHoHhBs",
        "outputId": "ab06969b-e027-4da9-e03c-a6fb196136c5",
        "colab": {
          "base_uri": "https://localhost:8080/"
        }
      },
      "execution_count": 26,
      "outputs": [
        {
          "output_type": "stream",
          "name": "stdout",
          "text": [
            "[1 4 5]\n"
          ]
        }
      ]
    },
    {
      "cell_type": "code",
      "source": [
        "import numpy as np\n",
        "x=np.array([[0,1,2],[3,4,5],[6,7,8],[9,10,11]])\n",
        "print('our array is:',x)\n",
        "rows=np.array([[0,0],[3,3]])\n",
        "cols=np.array([[0,2],[0,2]])\n",
        "y=x[rows,cols]\n",
        "print(\"The corner elemnts of this array are\",y)"
      ],
      "metadata": {
        "id": "vTMR6BYwIgdP",
        "outputId": "f7235e53-ef34-4b0d-f965-c1359764597a",
        "colab": {
          "base_uri": "https://localhost:8080/"
        }
      },
      "execution_count": 28,
      "outputs": [
        {
          "output_type": "stream",
          "name": "stdout",
          "text": [
            "our array is: [[ 0  1  2]\n",
            " [ 3  4  5]\n",
            " [ 6  7  8]\n",
            " [ 9 10 11]]\n",
            "The corner elemnts of this array are [[ 0  2]\n",
            " [ 9 11]]\n"
          ]
        }
      ]
    },
    {
      "cell_type": "code",
      "source": [
        "import numpy as np\n",
        "a=np.array([[3,7],[9,1]])\n",
        "print('our array is:',a)\n",
        "#applying sort() functions\n",
        "print(np.sort(a))\n",
        "#sort along axis 0\n",
        "print(np.sort(a,axis=0))\n",
        "#order parameter in sort functions\n",
        "dt=np.dtype([('name','S10'),('age',int)])\n",
        "a=np.array([(\"raju\",21),(\"anil\",25),(\"ravi\",17),(\"amar\",27)],dtype=dt)\n",
        "print('our array is:',a)\n",
        "print('Order by name:')\n",
        "print (np.sort(a,order='name'))"
      ],
      "metadata": {
        "id": "DiJxUrAdJ1yR",
        "outputId": "3929c340-4e9b-48e5-a26d-e55822d9ca0a",
        "colab": {
          "base_uri": "https://localhost:8080/"
        }
      },
      "execution_count": 31,
      "outputs": [
        {
          "output_type": "stream",
          "name": "stdout",
          "text": [
            "our array is: [[3 7]\n",
            " [9 1]]\n",
            "[[3 7]\n",
            " [1 9]]\n",
            "[[3 1]\n",
            " [9 7]]\n",
            "our array is: [(b'raju', 21) (b'anil', 25) (b'ravi', 17) (b'amar', 27)]\n",
            "Order by name:\n",
            "[(b'amar', 27) (b'anil', 25) (b'raju', 21) (b'ravi', 17)]\n"
          ]
        }
      ]
    },
    {
      "cell_type": "code",
      "source": [
        "import numpy as np\n",
        "arr=np.array([1,2,3,4,4,6])\n",
        "x=np.where(arr==4)\n",
        "print(x)"
      ],
      "metadata": {
        "id": "QQQVBPUVOoFn",
        "outputId": "276c8d8c-75cb-4f39-ba14-bde5739c3674",
        "colab": {
          "base_uri": "https://localhost:8080/"
        }
      },
      "execution_count": 32,
      "outputs": [
        {
          "output_type": "stream",
          "name": "stdout",
          "text": [
            "(array([3, 4]),)\n"
          ]
        }
      ]
    },
    {
      "cell_type": "code",
      "source": [
        "import numpy as np\n",
        "arr=np.array([1,2,3,4,5,6,7,8])\n",
        "x=np.where(arr%2==0)\n",
        "print(x)"
      ],
      "metadata": {
        "id": "9ZiJEgzVPGNP",
        "outputId": "046a84d3-0e52-4e7e-c5a1-38e88957d9d9",
        "colab": {
          "base_uri": "https://localhost:8080/"
        }
      },
      "execution_count": 33,
      "outputs": [
        {
          "output_type": "stream",
          "name": "stdout",
          "text": [
            "(array([1, 3, 5, 7]),)\n"
          ]
        }
      ]
    },
    {
      "cell_type": "code",
      "source": [],
      "metadata": {
        "id": "gEFGPCmXPmB2"
      },
      "execution_count": null,
      "outputs": []
    }
  ]
}